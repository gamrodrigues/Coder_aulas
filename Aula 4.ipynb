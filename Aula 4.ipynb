{
 "cells": [
  {
   "cell_type": "markdown",
   "id": "2316546c-b7d5-4bbb-8627-a1c5c339cbca",
   "metadata": {},
   "source": [
    "# Funções Personalizadas"
   ]
  },
  {
   "cell_type": "code",
   "execution_count": 9,
   "id": "24e1db57-4d40-4bb1-b4d6-a202b572f42d",
   "metadata": {},
   "outputs": [
    {
     "name": "stdout",
     "output_type": "stream",
     "text": [
      "a soma é  17\n"
     ]
    }
   ],
   "source": [
    "#Criando funções\n",
    "# def nome(argumentos): função\n",
    "def soma(elemento1, elemento2):\n",
    "    resultado=elemento1+elemento2\n",
    "    print('a soma é ',resultado)\n",
    "numero1=12\n",
    "numero2=5\n",
    "soma(numero1, numero2)\n"
   ]
  },
  {
   "cell_type": "code",
   "execution_count": 15,
   "id": "383fa968-87ab-41dc-83c7-17fa89e05687",
   "metadata": {},
   "outputs": [
    {
     "data": {
      "text/plain": [
       "27"
      ]
     },
     "execution_count": 15,
     "metadata": {},
     "output_type": "execute_result"
    }
   ],
   "source": [
    "#Fixando parâmetros de funções\n",
    "def potencia(x,y=1):\n",
    "    resultado=x**y\n",
    "    return resultado\n",
    "\n",
    "potencia(3,3)"
   ]
  },
  {
   "cell_type": "code",
   "execution_count": 17,
   "id": "082adbf7-8606-4610-8e5d-d5d3c3b3bb75",
   "metadata": {},
   "outputs": [
    {
     "data": {
      "text/plain": [
       "27"
      ]
     },
     "execution_count": 17,
     "metadata": {},
     "output_type": "execute_result"
    }
   ],
   "source": [
    "#Função anônima lambda \n",
    "# lambda argumentos: função simples\n",
    "cubo=lambda x:x**3\n",
    "cubo(3)"
   ]
  },
  {
   "cell_type": "code",
   "execution_count": 21,
   "id": "fcdb8455",
   "metadata": {},
   "outputs": [],
   "source": [
    "def cubo(x):\n",
    "    return x**3"
   ]
  },
  {
   "cell_type": "code",
   "execution_count": 24,
   "id": "bac94be5-87e8-49a3-89eb-14c59cbd801b",
   "metadata": {},
   "outputs": [
    {
     "name": "stdout",
     "output_type": "stream",
     "text": [
      "[1, 8, 27, 64]\n"
     ]
    }
   ],
   "source": [
    "#Função integrada MAP\n",
    "# map(função pronta, iteraveis)\n",
    "x=map(cubo,(1,2,3,4))\n",
    "print(list(x))"
   ]
  },
  {
   "cell_type": "code",
   "execution_count": 25,
   "id": "116cba9f",
   "metadata": {},
   "outputs": [
    {
     "data": {
      "text/plain": [
       "map"
      ]
     },
     "execution_count": 25,
     "metadata": {},
     "output_type": "execute_result"
    }
   ],
   "source": [
    "type(x)"
   ]
  },
  {
   "cell_type": "markdown",
   "id": "3636ec33-77a2-4b3a-b088-c222eff0183e",
   "metadata": {},
   "source": [
    "# Date/Time"
   ]
  },
  {
   "cell_type": "code",
   "execution_count": 27,
   "id": "6d7c648d-398d-4c98-97d7-b61be8c4fb32",
   "metadata": {},
   "outputs": [],
   "source": [
    "#importando de subibliotecas nativas\n",
    "#date\n",
    "from datetime import date\n",
    "#datetime\n",
    "from datetime import datetime as dt"
   ]
  },
  {
   "cell_type": "code",
   "execution_count": 30,
   "id": "94203aa7-758d-4a90-93a7-0f6dca150dc6",
   "metadata": {},
   "outputs": [
    {
     "data": {
      "text/plain": [
       "datetime.datetime(2024, 6, 20, 20, 35, 23, 289724)"
      ]
     },
     "execution_count": 30,
     "metadata": {},
     "output_type": "execute_result"
    }
   ],
   "source": [
    "#today\n",
    "date.today()\n",
    "dt.today()\n",
    "#now\n",
    "dt.now()"
   ]
  },
  {
   "cell_type": "code",
   "execution_count": 34,
   "id": "8fabe302",
   "metadata": {},
   "outputs": [],
   "source": [
    "hoje=dt.today()"
   ]
  },
  {
   "cell_type": "code",
   "execution_count": 44,
   "id": "dd5840a6-68d6-4fae-8360-48fdb7c9f4da",
   "metadata": {},
   "outputs": [],
   "source": [
    "#formatação\n",
    "#strftime - out\n",
    "hoje.strftime('%d-%m-%Y, %H:%M')\n",
    "#strptime - in\n",
    "data_exemplo=dt.strptime('20/06/2024','%d/%m/%Y')"
   ]
  },
  {
   "cell_type": "code",
   "execution_count": 57,
   "id": "f787304b-a8ed-4922-82c6-d86d09f319e2",
   "metadata": {},
   "outputs": [
    {
     "name": "stdout",
     "output_type": "stream",
     "text": [
      "2024-06-20 00:00:00\n",
      "2024-06-19 00:00:00\n"
     ]
    }
   ],
   "source": [
    "#manipulação\n",
    "#acesso aos compoentes de data\n",
    "data_exemplo.day\n",
    "#timedelta \n",
    "from datetime import timedelta\n",
    "print(data_exemplo)\n",
    "print(data_exemplo-timedelta(days=1))"
   ]
  },
  {
   "cell_type": "code",
   "execution_count": 59,
   "id": "21d2506a",
   "metadata": {},
   "outputs": [
    {
     "data": {
      "text/plain": [
       "3"
      ]
     },
     "execution_count": 59,
     "metadata": {},
     "output_type": "execute_result"
    }
   ],
   "source": [
    "from datetime import datetime\n",
    "data_exemplo.weekday()"
   ]
  }
 ],
 "metadata": {
  "kernelspec": {
   "display_name": "Python 3 (ipykernel)",
   "language": "python",
   "name": "python3"
  },
  "language_info": {
   "codemirror_mode": {
    "name": "ipython",
    "version": 3
   },
   "file_extension": ".py",
   "mimetype": "text/x-python",
   "name": "python",
   "nbconvert_exporter": "python",
   "pygments_lexer": "ipython3",
   "version": "3.11.7"
  }
 },
 "nbformat": 4,
 "nbformat_minor": 5
}
