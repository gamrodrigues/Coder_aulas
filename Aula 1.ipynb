{
 "cells": [
  {
   "cell_type": "markdown",
   "id": "d824780f-1059-4e50-a60b-d9a8883bd025",
   "metadata": {},
   "source": [
    "# Aula 1: Introdução a operadores e strings\n"
   ]
  },
  {
   "cell_type": "markdown",
   "id": "dcab1d17-953f-4870-a37c-1bdd56fe773b",
   "metadata": {},
   "source": [
    "Operadores"
   ]
  },
  {
   "cell_type": "code",
   "execution_count": 2,
   "id": "739a1247-3cd6-471b-8072-0cafb622066d",
   "metadata": {},
   "outputs": [
    {
     "name": "stdout",
     "output_type": "stream",
     "text": [
      "7\n"
     ]
    },
    {
     "data": {
      "text/plain": [
       "-3"
      ]
     },
     "execution_count": 2,
     "metadata": {},
     "output_type": "execute_result"
    }
   ],
   "source": [
    "#Adição e Subtração\n",
    "\n",
    "print(2+5)\n",
    "2-5"
   ]
  },
  {
   "cell_type": "code",
   "execution_count": 2,
   "id": "627366c9-b7ed-43a6-82be-bcbd897a77df",
   "metadata": {},
   "outputs": [
    {
     "data": {
      "text/plain": [
       "10"
      ]
     },
     "execution_count": 2,
     "metadata": {},
     "output_type": "execute_result"
    }
   ],
   "source": [
    "#Multiplicação\n",
    "2*5"
   ]
  },
  {
   "cell_type": "code",
   "execution_count": 3,
   "id": "0cf25e5f-8a61-44ac-a934-9a29f6dbfb83",
   "metadata": {},
   "outputs": [
    {
     "name": "stdout",
     "output_type": "stream",
     "text": [
      "2\n"
     ]
    },
    {
     "data": {
      "text/plain": [
       "1"
      ]
     },
     "execution_count": 3,
     "metadata": {},
     "output_type": "execute_result"
    }
   ],
   "source": [
    "#Divisão\n",
    "##Inteiros e Resto\n",
    "print(5//2)\n",
    "5%2"
   ]
  },
  {
   "cell_type": "code",
   "execution_count": 4,
   "id": "4224678d-6457-45fb-b6e7-d92b3d0ef7b9",
   "metadata": {},
   "outputs": [
    {
     "data": {
      "text/plain": [
       "2.5"
      ]
     },
     "execution_count": 4,
     "metadata": {},
     "output_type": "execute_result"
    }
   ],
   "source": [
    "##Exata\n",
    "5/2"
   ]
  },
  {
   "cell_type": "code",
   "execution_count": 3,
   "id": "dcca2734-cb39-42b3-9f93-93f102ad170e",
   "metadata": {},
   "outputs": [
    {
     "name": "stdout",
     "output_type": "stream",
     "text": [
      "32\n"
     ]
    },
    {
     "data": {
      "text/plain": [
       "1.148698354997035"
      ]
     },
     "execution_count": 3,
     "metadata": {},
     "output_type": "execute_result"
    }
   ],
   "source": [
    "#Potenciação e Radiciação\n",
    "print(2**5)\n",
    "2**(1/5)"
   ]
  },
  {
   "cell_type": "code",
   "execution_count": 6,
   "id": "f50f1141-9a37-447a-b0b0-cfb9093582a4",
   "metadata": {},
   "outputs": [
    {
     "name": "stdout",
     "output_type": "stream",
     "text": [
      "False\n"
     ]
    },
    {
     "data": {
      "text/plain": [
       "True"
      ]
     },
     "execution_count": 6,
     "metadata": {},
     "output_type": "execute_result"
    }
   ],
   "source": [
    "#Maior e Menor\n",
    "print(2>5)\n",
    "2<5"
   ]
  },
  {
   "cell_type": "code",
   "execution_count": 7,
   "id": "7486249a-b1b9-4c9f-8caa-5dd8b1f3c6f8",
   "metadata": {},
   "outputs": [
    {
     "name": "stdout",
     "output_type": "stream",
     "text": [
      "False\n"
     ]
    },
    {
     "data": {
      "text/plain": [
       "True"
      ]
     },
     "execution_count": 7,
     "metadata": {},
     "output_type": "execute_result"
    }
   ],
   "source": [
    "#Maior ou igual e Menor ou igual\n",
    "print(2>=5)\n",
    "2<=5"
   ]
  },
  {
   "cell_type": "code",
   "execution_count": 8,
   "id": "1714c873-b073-40bc-8af0-95a9a0c2bbf4",
   "metadata": {},
   "outputs": [
    {
     "name": "stdout",
     "output_type": "stream",
     "text": [
      "False\n"
     ]
    },
    {
     "data": {
      "text/plain": [
       "True"
      ]
     },
     "execution_count": 8,
     "metadata": {},
     "output_type": "execute_result"
    }
   ],
   "source": [
    "#Igual ou Diferente\n",
    "print(2==5)\n",
    "2!=5"
   ]
  },
  {
   "cell_type": "markdown",
   "id": "fc03e4f4-d615-47d7-adf2-f97f2c94f5cf",
   "metadata": {},
   "source": [
    "Strings"
   ]
  },
  {
   "cell_type": "code",
   "execution_count": 9,
   "id": "2997bc6a-797f-4c76-970a-234d82d4b771",
   "metadata": {},
   "outputs": [
    {
     "data": {
      "text/plain": [
       "'texto'"
      ]
     },
     "execution_count": 9,
     "metadata": {},
     "output_type": "execute_result"
    }
   ],
   "source": [
    "#Textos\n",
    "\"texto\""
   ]
  },
  {
   "cell_type": "code",
   "execution_count": 10,
   "id": "d8b322c2-94e7-427f-a991-2ed24b568d3a",
   "metadata": {},
   "outputs": [
    {
     "data": {
      "text/plain": [
       "':]'"
      ]
     },
     "execution_count": 10,
     "metadata": {},
     "output_type": "execute_result"
    }
   ],
   "source": [
    "#Sinais\n",
    "\":]\""
   ]
  },
  {
   "cell_type": "code",
   "execution_count": 11,
   "id": "0e2ad158-e8db-4268-8cb7-a8264a3cbcc1",
   "metadata": {},
   "outputs": [
    {
     "name": "stdout",
     "output_type": "stream",
     "text": [
      "19\n",
      "19.05\n"
     ]
    },
    {
     "data": {
      "text/plain": [
       "'19,05'"
      ]
     },
     "execution_count": 11,
     "metadata": {},
     "output_type": "execute_result"
    }
   ],
   "source": [
    "#Números\n",
    "print(\"19\")\n",
    "print(\"19.05\")\n",
    "\"19,05\""
   ]
  },
  {
   "cell_type": "code",
   "execution_count": 12,
   "id": "4248c0f7-8e0b-4630-a898-9c8b3b9e0b01",
   "metadata": {},
   "outputs": [
    {
     "name": "stdout",
     "output_type": "stream",
     "text": [
      "19.05\n"
     ]
    }
   ],
   "source": [
    "##observação\n",
    "print(19.05)"
   ]
  },
  {
   "cell_type": "code",
   "execution_count": 13,
   "id": "88dd0505-efd7-4e91-b433-f6d462e3d672",
   "metadata": {},
   "outputs": [
    {
     "ename": "SyntaxError",
     "evalue": "leading zeros in decimal integer literals are not permitted; use an 0o prefix for octal integers (<ipython-input-13-8171bd97fb4c>, line 1)",
     "output_type": "error",
     "traceback": [
      "\u001b[1;36m  File \u001b[1;32m\"<ipython-input-13-8171bd97fb4c>\"\u001b[1;36m, line \u001b[1;32m1\u001b[0m\n\u001b[1;33m    print(19,05)\u001b[0m\n\u001b[1;37m              ^\u001b[0m\n\u001b[1;31mSyntaxError\u001b[0m\u001b[1;31m:\u001b[0m leading zeros in decimal integer literals are not permitted; use an 0o prefix for octal integers\n"
     ]
    }
   ],
   "source": [
    "print(19,05)"
   ]
  },
  {
   "cell_type": "code",
   "execution_count": 14,
   "id": "cddc8e8a-fe28-41c5-bf63-aa577854862e",
   "metadata": {},
   "outputs": [
    {
     "data": {
      "text/plain": [
       "'Oi! Você se lembra do seu 1º aniversário?'"
      ]
     },
     "execution_count": 14,
     "metadata": {},
     "output_type": "execute_result"
    }
   ],
   "source": [
    "#Mistos\n",
    "\"Oi! Você se lembra do seu 1º aniversário?\""
   ]
  },
  {
   "cell_type": "markdown",
   "id": "7e5666d8-50f4-46b3-998a-d6ee9cb4b009",
   "metadata": {},
   "source": [
    "Manipulação de strings"
   ]
  },
  {
   "cell_type": "code",
   "execution_count": 15,
   "id": "4e4852e7-3070-4985-ba87-efa59d0b3b99",
   "metadata": {},
   "outputs": [
    {
     "name": "stdout",
     "output_type": "stream",
     "text": [
      "café com leite\n",
      "café com leite e açucar\n",
      "café com açucar e leite\n"
     ]
    }
   ],
   "source": [
    "#Format\n",
    "print(\"café com {}\".format('leite'))\n",
    "print(\"café com {} e {}\".format('leite','açucar'))\n",
    "print(\"café com {1} e {0}\".format('leite','açucar'))"
   ]
  },
  {
   "cell_type": "code",
   "execution_count": 16,
   "id": "3e754bbe-d946-4d9a-9ebf-fbca2fff3f9f",
   "metadata": {},
   "outputs": [
    {
     "name": "stdout",
     "output_type": "stream",
     "text": [
      "café com leite\n"
     ]
    }
   ],
   "source": [
    "#f\n",
    "ingrediente='leite'\n",
    "print(f\"café com {ingrediente}\")"
   ]
  },
  {
   "cell_type": "code",
   "execution_count": 17,
   "id": "3441cf71-9df7-4ac9-a950-3b32e9e4e801",
   "metadata": {},
   "outputs": [
    {
     "name": "stdout",
     "output_type": "stream",
     "text": [
      "café com leite\n",
      "1 xícara de chá\n",
      "0.500000 xícara de chá\n"
     ]
    }
   ],
   "source": [
    "#%s, %i e %f\n",
    "ingrediente='leite'\n",
    "print(\"café com %s\" %ingrediente)\n",
    "\n",
    "quantidade=1\n",
    "print(\"%i xícara de chá\" %quantidade )\n",
    "quantidade=1/2\n",
    "print(\"%f xícara de chá\" %quantidade )"
   ]
  },
  {
   "cell_type": "code",
   "execution_count": 18,
   "id": "1ce9bc6d-81ce-4952-9c35-8f19d5aeaa40",
   "metadata": {},
   "outputs": [],
   "source": [
    "texto='misture o chocolate até a massa ficar homogênea'"
   ]
  },
  {
   "cell_type": "code",
   "execution_count": 19,
   "id": "f1af5d56-c5ae-41d3-b572-5d6aeffc5412",
   "metadata": {},
   "outputs": [
    {
     "name": "stdout",
     "output_type": "stream",
     "text": [
      "['misture', 'o', 'chocolate', 'até', 'a', 'massa', 'ficar', 'homogênea']\n",
      "['misture o chocolate ', ' a massa ficar homogênea']\n",
      "['', 'isture o chocolate até a ', 'assa ficar ho', 'ogênea']\n"
     ]
    }
   ],
   "source": [
    "#split\n",
    "print(texto.split(' '))\n",
    "print(texto.split('até'))\n",
    "print(texto.split('m'))"
   ]
  },
  {
   "cell_type": "code",
   "execution_count": 20,
   "id": "b5badb77-e4fb-4ca1-a252-e29d59926b3d",
   "metadata": {},
   "outputs": [
    {
     "data": {
      "text/plain": [
       "'MISTURE O CHOCOLATE ATÉ A MASSA FICAR HOMOGÊNEA'"
      ]
     },
     "execution_count": 20,
     "metadata": {},
     "output_type": "execute_result"
    }
   ],
   "source": [
    "#upper\n",
    "texto.upper()"
   ]
  },
  {
   "cell_type": "code",
   "execution_count": 21,
   "id": "11d6a267-b115-4a29-a805-21089a5458b5",
   "metadata": {},
   "outputs": [
    {
     "name": "stdout",
     "output_type": "stream",
     "text": [
      "16\n",
      "20\n",
      "0\n"
     ]
    }
   ],
   "source": [
    "#find\n",
    "print(texto.find('a'))\n",
    "print(texto.find('até'))\n",
    "print(texto.find('misture'))"
   ]
  },
  {
   "cell_type": "markdown",
   "id": "5f0b6c59-b716-4168-a3e1-e0a607fc168c",
   "metadata": {},
   "source": [
    "# Exercícios"
   ]
  },
  {
   "cell_type": "markdown",
   "id": "97cb5132-3e52-490d-8ec1-f63b026ed840",
   "metadata": {},
   "source": [
    "Exercicio 1:\n",
    "Atribua a duas variáveis a idade de duas pessoas, em uma terceira variável faça a média e print a seguinte frase: \n",
    "\"A média das duas idades é XX anos.\""
   ]
  },
  {
   "cell_type": "markdown",
   "id": "f58e5a3f-8a4d-47ca-aa98-4a97ac345e62",
   "metadata": {},
   "source": [
    "Exercicio 2:\n",
    "Usando os metodos de formatação aprendidos transforme \"O bom milho verde logo estara maduro\" em \"bom modelo esta raro\""
   ]
  },
  {
   "cell_type": "markdown",
   "id": "eaa623fe-2a1b-4753-b6dc-c60de6364c06",
   "metadata": {},
   "source": [
    "Exercicio desafio:\n",
    "Leia os trê coeficientes de uma equação do segundo grau a, b e c (ax^2 + bx +c) e retorne os dois resultados possíveis com um texto explicativo (não precisa fazer nenhum tipo de tratamento)"
   ]
  }
 ],
 "metadata": {
  "kernelspec": {
   "display_name": "Python 3",
   "language": "python",
   "name": "python3"
  },
  "language_info": {
   "codemirror_mode": {
    "name": "ipython",
    "version": 3
   },
   "file_extension": ".py",
   "mimetype": "text/x-python",
   "name": "python",
   "nbconvert_exporter": "python",
   "pygments_lexer": "ipython3",
   "version": "3.8.8"
  }
 },
 "nbformat": 4,
 "nbformat_minor": 5
}
