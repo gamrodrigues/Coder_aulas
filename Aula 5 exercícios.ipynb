{
 "cells": [
  {
   "cell_type": "markdown",
   "metadata": {},
   "source": [
    "Mão na massa"
   ]
  },
  {
   "cell_type": "code",
   "execution_count": 11,
   "metadata": {},
   "outputs": [],
   "source": [
    "#Exercício 1\n",
    "class Retangulo:\n",
    "    def __init__(self,base,altura):\n",
    "        self.base = base\n",
    "        self.altura = altura\n",
    "        \n",
    "    def area (self):\n",
    "        return self.base*self.altura\n",
    "    def perimetro (self):\n",
    "        return 2*self.altura + 2*self.base"
   ]
  },
  {
   "cell_type": "code",
   "execution_count": 12,
   "metadata": {},
   "outputs": [
    {
     "name": "stdout",
     "output_type": "stream",
     "text": [
      "2\n",
      "3\n",
      "6\n",
      "10\n"
     ]
    }
   ],
   "source": [
    "exemplo=Retangulo(2,3)\n",
    "print(exemplo.base)\n",
    "print(exemplo.altura)\n",
    "print(exemplo.area())\n",
    "print(exemplo.perimetro())"
   ]
  },
  {
   "cell_type": "code",
   "execution_count": 2,
   "metadata": {},
   "outputs": [
    {
     "ename": "NameError",
     "evalue": "name 'exemplo' is not defined",
     "output_type": "error",
     "traceback": [
      "\u001b[1;31m---------------------------------------------------------------------------\u001b[0m",
      "\u001b[1;31mNameError\u001b[0m                                 Traceback (most recent call last)",
      "Cell \u001b[1;32mIn[2], line 1\u001b[0m\n\u001b[1;32m----> 1\u001b[0m exemplo\n",
      "\u001b[1;31mNameError\u001b[0m: name 'exemplo' is not defined"
     ]
    }
   ],
   "source": [
    "exemplo"
   ]
  },
  {
   "cell_type": "code",
   "execution_count": 1,
   "metadata": {},
   "outputs": [],
   "source": [
    "#Exercício 2\n",
    "from geometria import retangulos\n",
    "# exemplo3=retangulos(1,2)\n",
    "# exemplo2=retangulos(5,3)\n",
    "# print(exemplo2.base)\n",
    "# print(exemplo2.altura)\n",
    "# print(exemplo2.area())\n",
    "# print(exemplo2.perimetro())"
   ]
  },
  {
   "cell_type": "code",
   "execution_count": 34,
   "metadata": {},
   "outputs": [
    {
     "ename": "NameError",
     "evalue": "name 'exemplo3' is not defined",
     "output_type": "error",
     "traceback": [
      "\u001b[1;31m---------------------------------------------------------------------------\u001b[0m",
      "\u001b[1;31mNameError\u001b[0m                                 Traceback (most recent call last)",
      "Cell \u001b[1;32mIn[34], line 1\u001b[0m\n\u001b[1;32m----> 1\u001b[0m exemplo3\n",
      "\u001b[1;31mNameError\u001b[0m: name 'exemplo3' is not defined"
     ]
    }
   ],
   "source": [
    "exemplo3"
   ]
  },
  {
   "cell_type": "code",
   "execution_count": 23,
   "metadata": {},
   "outputs": [],
   "source": [
    "#Exercício 3\n",
    "\n",
    "class Conta:\n",
    "    def __init__(self, saldo, titular):\n",
    "        self.saldo = saldo\n",
    "        self.titular = titular\n",
    "    def depositar (self, deposito):\n",
    "        self.saldo += deposito\n",
    "    def sacar (self, saque):\n",
    "        self.saldo -= saque\n"
   ]
  },
  {
   "cell_type": "code",
   "execution_count": 24,
   "metadata": {},
   "outputs": [
    {
     "name": "stdout",
     "output_type": "stream",
     "text": [
      "1000\n"
     ]
    }
   ],
   "source": [
    "banco=Conta(1000, 'Gabriel')\n",
    "print(banco.saldo)\n"
   ]
  },
  {
   "cell_type": "code",
   "execution_count": 25,
   "metadata": {},
   "outputs": [
    {
     "name": "stdout",
     "output_type": "stream",
     "text": [
      "1100\n"
     ]
    }
   ],
   "source": [
    "banco.depositar(100)\n",
    "print(banco.saldo)\n"
   ]
  },
  {
   "cell_type": "code",
   "execution_count": 26,
   "metadata": {},
   "outputs": [
    {
     "name": "stdout",
     "output_type": "stream",
     "text": [
      "850\n"
     ]
    }
   ],
   "source": [
    "banco.sacar(250)\n",
    "print(banco.saldo)"
   ]
  },
  {
   "cell_type": "code",
   "execution_count": null,
   "metadata": {},
   "outputs": [],
   "source": []
  }
 ],
 "metadata": {
  "kernelspec": {
   "display_name": "base",
   "language": "python",
   "name": "python3"
  },
  "language_info": {
   "codemirror_mode": {
    "name": "ipython",
    "version": 3
   },
   "file_extension": ".py",
   "mimetype": "text/x-python",
   "name": "python",
   "nbconvert_exporter": "python",
   "pygments_lexer": "ipython3",
   "version": "3.11.7"
  }
 },
 "nbformat": 4,
 "nbformat_minor": 2
}
