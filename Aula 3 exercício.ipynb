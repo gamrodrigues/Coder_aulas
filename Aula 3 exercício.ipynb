{
 "cells": [
  {
   "cell_type": "markdown",
   "id": "d347ed4f-110c-425d-902e-f8c575677e18",
   "metadata": {},
   "source": [
    "Mão na massa"
   ]
  },
  {
   "cell_type": "code",
   "execution_count": 10,
   "id": "252e735c-4854-4af4-b0d7-4caf2afb718e",
   "metadata": {},
   "outputs": [
    {
     "name": "stdout",
     "output_type": "stream",
     "text": [
      "O número 555 é impar!\n"
     ]
    }
   ],
   "source": [
    "#Exercício 1\n",
    "numero=int(input('Insira um número inteiro: '))\n",
    "if numero%2==0: print('O número ',numero,' é par!'.format(numero))\n",
    "else: print(f'O número {numero} é impar!')"
   ]
  },
  {
   "cell_type": "code",
   "execution_count": 12,
   "id": "ff1c5316-a335-49b3-8057-fc8a45551617",
   "metadata": {},
   "outputs": [
    {
     "name": "stdout",
     "output_type": "stream",
     "text": [
      "Ser ou nao ser, eis a questão\n",
      "Ser  -  3\n",
      "ou  -  2\n",
      "nao  -  3\n",
      "ser,  -  4\n",
      "eis  -  3\n",
      "a  -  1\n",
      "questão  -  7\n"
     ]
    }
   ],
   "source": [
    "#Exercício 2\n",
    "frase=input('Digite uma frase: ')\n",
    "palavras=frase.split(' ')\n",
    "print(frase)\n",
    "for i in palavras:\n",
    "    print(i, ' - ', len(i))"
   ]
  },
  {
   "cell_type": "code",
   "execution_count": 17,
   "id": "dcd34d80-9abb-4a38-a561-135ad98ac8f3",
   "metadata": {},
   "outputs": [
    {
     "name": "stdout",
     "output_type": "stream",
     "text": [
      "Senha incorreta! \n",
      " Tenete novamente.\n",
      "Senha incorreta! \n",
      " Tenete novamente.\n",
      "Senha correta!\n"
     ]
    }
   ],
   "source": [
    "#Exercício 3\n",
    "senha='1234'\n",
    "while True:\n",
    "    senha_informada=input('Digite uma senha de 4 digitos: ')\n",
    "    if(senha_informada!=senha): print('Senha incorreta!\\nTenete novamente.')\n",
    "    else:\n",
    "        print('Senha correta!')\n",
    "        break"
   ]
  },
  {
   "cell_type": "code",
   "execution_count": 25,
   "id": "0ff8f90f-6e1f-42b7-88e8-edd56d0c8114",
   "metadata": {},
   "outputs": [
    {
     "name": "stdout",
     "output_type": "stream",
     "text": [
      "120\n"
     ]
    }
   ],
   "source": [
    "#Exercício 4\n",
    "n=int(input('Digite um número inteiro: '))\n",
    "produto=1\n",
    "for i in range(1,n+1):\n",
    "    produto*=i\n",
    "if n==0:produto=1\n",
    "print(produto)"
   ]
  },
  {
   "cell_type": "code",
   "execution_count": 28,
   "id": "4042e291-64b1-447b-8eb8-26dcb8ba1534",
   "metadata": {},
   "outputs": [
    {
     "name": "stdout",
     "output_type": "stream",
     "text": [
      "Janeiro \t 232\n",
      "Fevereiro \t 321\n",
      "Junho \t 589\n",
      "Julho \t 547\n"
     ]
    }
   ],
   "source": [
    "#Exercício 5\n",
    "dicionario={'Janeiro':232, 'Fevereiro':321, 'Junho':589, 'Julho':547}\n",
    "for k in dicionario:\n",
    "    print(k, '\\t', dicionario[k])"
   ]
  },
  {
   "cell_type": "code",
   "execution_count": null,
   "id": "2b3c618e",
   "metadata": {},
   "outputs": [],
   "source": []
  }
 ],
 "metadata": {
  "kernelspec": {
   "display_name": "Python 3 (ipykernel)",
   "language": "python",
   "name": "python3"
  },
  "language_info": {
   "codemirror_mode": {
    "name": "ipython",
    "version": 3
   },
   "file_extension": ".py",
   "mimetype": "text/x-python",
   "name": "python",
   "nbconvert_exporter": "python",
   "pygments_lexer": "ipython3",
   "version": "3.11.7"
  }
 },
 "nbformat": 4,
 "nbformat_minor": 5
}
