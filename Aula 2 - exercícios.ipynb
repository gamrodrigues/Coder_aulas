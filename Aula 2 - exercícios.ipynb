{
 "cells": [
  {
   "cell_type": "markdown",
   "metadata": {},
   "source": [
    "Aula 2 - Mão na massa"
   ]
  },
  {
   "cell_type": "code",
   "execution_count": 40,
   "metadata": {},
   "outputs": [
    {
     "name": "stdout",
     "output_type": "stream",
     "text": [
      "o valor do saldo atual é 850.60\n",
      "o valor do saldo atual é 850.60\n",
      "o valor do saldo atual é 850.6\n"
     ]
    }
   ],
   "source": [
    "#Exercício 1\n",
    "saldo=950.60\n",
    "saque=float (input('Digite o valor de saque: '))\n",
    "saldo= saldo-saque\n",
    "print( f'o valor do saldo atual é {saldo:.2f}')\n",
    "print('o valor do saldo atual é {0:.2f}'.format(saldo))\n",
    "print('o valor do saldo atual é',saldo)"
   ]
  },
  {
   "cell_type": "code",
   "execution_count": 41,
   "metadata": {},
   "outputs": [],
   "source": [
    "#Exercício 2\n",
    "lista_fruta=[]"
   ]
  },
  {
   "cell_type": "code",
   "execution_count": 50,
   "metadata": {},
   "outputs": [
    {
     "data": {
      "text/plain": [
       "['banana', 'morango', 'laranja', 'mamão', 'abacate', 'maçã']"
      ]
     },
     "execution_count": 50,
     "metadata": {},
     "output_type": "execute_result"
    }
   ],
   "source": [
    "lista_fruta.append(input('Digite uma fruta: '))\n",
    "list(set(lista_fruta))\n"
   ]
  },
  {
   "cell_type": "code",
   "execution_count": 51,
   "metadata": {},
   "outputs": [
    {
     "name": "stdout",
     "output_type": "stream",
     "text": [
      "uma pessoa boa me chamou\n"
     ]
    },
    {
     "data": {
      "text/plain": [
       "'*m* p*ss** b** m* ch*m**'"
      ]
     },
     "execution_count": 51,
     "metadata": {},
     "output_type": "execute_result"
    }
   ],
   "source": [
    "#Exercício 3\n",
    "frase=input('Digite uma frase: ')\n",
    "print(frase)\n",
    "frase=frase.replace('a','*').replace('e', '*').replace('i', '*').replace('o', '*').replace('u', '*')\n",
    "frase"
   ]
  },
  {
   "cell_type": "code",
   "execution_count": 53,
   "metadata": {},
   "outputs": [
    {
     "name": "stdout",
     "output_type": "stream",
     "text": [
      "a luz aparece na escuridão\n",
      "* luz *p*rece n* escuridão\n",
      "* luz *p*r*c* n* *scuridão\n",
      "* luz *p*r*c* n* *scur*dão\n",
      "* luz *p*r*c* n* *scur*dã*\n",
      "* l*z *p*r*c* n* *sc*r*dã*\n"
     ]
    }
   ],
   "source": [
    "frase=input('Digite uma frase: ')\n",
    "print(frase)\n",
    "frase=frase.replace('a','*')\n",
    "print(frase)\n",
    "frase=frase.replace('e', '*')\n",
    "print(frase)\n",
    "frase=frase.replace('i', '*')\n",
    "print(frase)\n",
    "frase=frase.replace('o', '*')\n",
    "print(frase)\n",
    "frase=frase.replace('u', '*')\n",
    "print(frase)\n"
   ]
  },
  {
   "cell_type": "code",
   "execution_count": null,
   "metadata": {},
   "outputs": [],
   "source": []
  },
  {
   "cell_type": "code",
   "execution_count": null,
   "metadata": {},
   "outputs": [],
   "source": []
  },
  {
   "cell_type": "code",
   "execution_count": null,
   "metadata": {},
   "outputs": [],
   "source": []
  },
  {
   "cell_type": "code",
   "execution_count": null,
   "metadata": {},
   "outputs": [],
   "source": []
  },
  {
   "cell_type": "code",
   "execution_count": null,
   "metadata": {},
   "outputs": [],
   "source": []
  },
  {
   "cell_type": "markdown",
   "metadata": {},
   "source": [
    "Desafio Fora de Sala"
   ]
  },
  {
   "cell_type": "code",
   "execution_count": 25,
   "metadata": {},
   "outputs": [
    {
     "name": "stdout",
     "output_type": "stream",
     "text": [
      "O seu IMC é 23.63\n"
     ]
    }
   ],
   "source": [
    "#Exercício 1\n",
    "peso=float(input('informe o peso em quilogramas (kg): '))\n",
    "altura=float(input('informe a altura em metros (kg): '))\n",
    "print('O seu IMC é {0:.2f}'.format(peso/(altura**2)))"
   ]
  },
  {
   "cell_type": "code",
   "execution_count": 29,
   "metadata": {},
   "outputs": [
    {
     "data": {
      "text/plain": [
       "[1, 2, 3, 4, 5]"
      ]
     },
     "execution_count": 29,
     "metadata": {},
     "output_type": "execute_result"
    }
   ],
   "source": [
    "#Exercício 2\n",
    "lista=[]\n",
    "lista.append(int(input('insira o 1º número inteiro: ')))\n",
    "lista.append(int(input('insira o 2º número inteiro: ')))\n",
    "lista.append(int(input('insira o 3º número inteiro: ')))\n",
    "lista.append(int(input('insira o 4º número inteiro: ')))\n",
    "lista.append(int(input('insira o 5º número inteiro: ')))\n",
    "lista"
   ]
  },
  {
   "cell_type": "code",
   "execution_count": 28,
   "metadata": {},
   "outputs": [
    {
     "data": {
      "text/plain": [
       "['gabriel', 'augusto', 'martins', 'rodrigues']"
      ]
     },
     "execution_count": 28,
     "metadata": {},
     "output_type": "execute_result"
    }
   ],
   "source": [
    "#Exercício 3\n",
    "nomes=input('Digite os nomes separados por virgula sem espaço: ')\n",
    "nomes.split(',')"
   ]
  }
 ],
 "metadata": {
  "kernelspec": {
   "display_name": "base",
   "language": "python",
   "name": "python3"
  },
  "language_info": {
   "codemirror_mode": {
    "name": "ipython",
    "version": 3
   },
   "file_extension": ".py",
   "mimetype": "text/x-python",
   "name": "python",
   "nbconvert_exporter": "python",
   "pygments_lexer": "ipython3",
   "version": "3.11.7"
  }
 },
 "nbformat": 4,
 "nbformat_minor": 2
}
